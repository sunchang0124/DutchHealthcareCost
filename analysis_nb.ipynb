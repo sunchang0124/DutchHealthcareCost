{
 "cells": [
  {
   "cell_type": "code",
   "execution_count": 1,
   "metadata": {},
   "outputs": [],
   "source": [
    "### Read healthcare cost data from vektis https://www.vektis.nl/intelligence/open-data ###\n",
    "### Please read the data description before using the data ###\n",
    "\n",
    "import json\n",
    "import func\n",
    "import numpy as np\n",
    "import pandas as pd"
   ]
  },
  {
   "cell_type": "code",
   "execution_count": 2,
   "metadata": {},
   "outputs": [],
   "source": [
    "# \"Vektis2012.csv\", \"Vektis2013.csv\", \"Vektis2014.csv\", \"Vektis2015.csv\",\"Vektis2016.csv\",\"Vektis2017.csv\" #\n",
    "file = \"Vektis2011.csv\"\n",
    "year = file[6:-4]\n",
    "df = pd.read_csv(file, delimiter=';')"
   ]
  },
  {
   "cell_type": "code",
   "execution_count": 3,
   "metadata": {},
   "outputs": [],
   "source": [
    "### Select features you are interested in ###\n",
    "### Feature descriptions are provided by https://www.vektis.nl/intelligence/open-data ###\n",
    "# KOSTEN_MEDISCH_SPECIALISTISCHE_ZORG\n",
    "col = [\"GESLACHT\", \"AANTAL_BSN\",\"KOSTEN_MEDISCH_SPECIALISTISCHE_ZORG\",\"KOSTEN_HUISARTS_INSCHRIJFTARIEF\", \n",
    "        \"KOSTEN_HUISARTS_CONSULT\",\"KOSTEN_HUISARTS_OVERIG\", \"KOSTEN_FARMACIE\", \"KOSTEN_MONDZORG\", \n",
    "        \"KOSTEN_ZIEKENVERVOER_ZITTEND\", \"KOSTEN_ZIEKENVERVOER_LIGGEND\", \"KOSTEN_GRENSOVERSCHRIJDENDE_ZORG\",\n",
    "        \"KOSTEN_PARAMEDISCHE_ZORG_FYSIOTHERAPIE\", \"KOSTEN_PARAMEDISCHE_ZORG_OVERIG\",\"KOSTEN_OVERIG\",\n",
    "        \"KOSTEN_GERIATRISCHE_REVALIDATIEZORG\",\"KOSTEN_VERPLEGING_EN_VERZORGING\",\n",
    "        \"KOSTEN_EERSTELIJNS_PSYCHOLOGISCHE_ZORG\",\"KOSTEN_TWEEDELIJNS_GGZ\",\"KOSTEN_SPECIALISTISCHE_GGZ\",\\\n",
    "        \"KOSTEN_GENERALISTISCHE_BASIS_GGZ\",\"KOSTEN_LANGDURIGE_GGZ\"]"
   ]
  },
  {
   "cell_type": "code",
   "execution_count": 4,
   "metadata": {},
   "outputs": [],
   "source": [
    "### As some features are available in some years, we need to check before select certain features ###\n",
    "data_col = df.columns\n",
    "present = []\n",
    "for c in col:\n",
    "    if c in data_col:\n",
    "        present.append(col.index(c))\n",
    "        \n",
    "df_vektis = df[np.array(col)[present]]"
   ]
  },
  {
   "cell_type": "code",
   "execution_count": 5,
   "metadata": {},
   "outputs": [],
   "source": [
    "### Give new columns names which are understandable for yourself ###\n",
    "# medical_specialist\n",
    "name_col = [\"SEX\", \"BSNs\",\"medical_specialist\", \"GP_registration\",\"GP_consult\",\"GP_others\",\"pharmacy\",\"dental\",\"transport_seat\", \n",
    "            \"transport_land\",\"abroad\",\"paramedical_phy\",\"paramedical_others\", \"others\",\"rehabilitation\",\"nursing\",\n",
    "            \"firstLinePsy\",\"secondLineGGZ\",\"specialGGZ\",\"basicGGZ\",\"longGGZ\"]\n",
    "new_col = np.array(name_col)[present]\n",
    "df_vektis.columns = new_col"
   ]
  },
  {
   "cell_type": "code",
   "execution_count": 6,
   "metadata": {},
   "outputs": [],
   "source": [
    "### Change the types (int,float,str --> float) of values in the AGE column ###\n",
    "age = []\n",
    "for i in df['LEEFTIJDSKLASSE']:\n",
    "    if type(i) == str:\n",
    "        try:\n",
    "            age.append(float(i))\n",
    "        except:\n",
    "            age.append(float(i[:-1]))\n",
    "    elif type(i) == float:\n",
    "        age.append(i)\n",
    "    elif type(i) == int:\n",
    "        age.append(i)\n",
    "\n",
    "### Add new age column ###\n",
    "df_vektis['AGE'] = age\n",
    "### Remove the first row (sum) ###\n",
    "df_vektis = df_vektis[1:]"
   ]
  },
  {
   "cell_type": "code",
   "execution_count": 7,
   "metadata": {},
   "outputs": [
    {
     "name": "stdout",
     "output_type": "stream",
     "text": [
      "Totally, 3 features have missing values (blanks).\n",
      "Check missing outcome is saved to Output/2011_missings.csv\n",
      "Missing values check is done!\n",
      "There is 136143 rows and 21 columns\n",
      "Data description is done!\n",
      "The number of insured people between 0 to 4:  7578\n",
      "Correlation Matrix plot is done\n",
      "Pie plot is done\n",
      "Distribution plot is done\n",
      "The number of insured people between 5 to 12:  12332\n",
      "Correlation Matrix plot is done\n",
      "Pie plot is done\n",
      "Distribution plot is done\n",
      "The number of insured people between 13 to 18:  9261\n",
      "Correlation Matrix plot is done\n",
      "Pie plot is done\n",
      "Distribution plot is done\n",
      "The number of insured people between 19 to 29:  16602\n",
      "Correlation Matrix plot is done\n",
      "Pie plot is done\n",
      "Distribution plot is done\n",
      "The number of insured people between 30 to 39:  15164\n",
      "Correlation Matrix plot is done\n",
      "Pie plot is done\n",
      "Distribution plot is done\n",
      "The number of insured people between 40 to 49:  15593\n",
      "Correlation Matrix plot is done\n",
      "Pie plot is done\n",
      "Distribution plot is done\n",
      "The number of insured people between 50 to 59:  15566\n",
      "Correlation Matrix plot is done\n",
      "Pie plot is done\n",
      "Distribution plot is done\n",
      "The number of insured people between 60 to 69:  15403\n",
      "Correlation Matrix plot is done\n",
      "Pie plot is done\n",
      "Distribution plot is done\n",
      "The number of insured people between 70 to 79:  14733\n",
      "Correlation Matrix plot is done\n",
      "Pie plot is done\n",
      "Distribution plot is done\n",
      "The number of insured people between 80 to 90:  13910\n",
      "Correlation Matrix plot is done\n",
      "Pie plot is done\n",
      "Distribution plot is done\n"
     ]
    }
   ],
   "source": [
    "### For getting some basic info ###\n",
    "# Check missings #\n",
    "func.check_missing(df, col, year)\n",
    "\n",
    "# Export description of data #\n",
    "func.data_describe(df, col, year)\n",
    "\n",
    "### Plotting ###\n",
    "# Age groups #\n",
    "loop = [[0,4],[5,12],[13,18],[19,29],[30,39],[40,49],[50,59],[60,69],[70,79],[80,90]]\n",
    "for i in loop:\n",
    "    df_avg = func.groupAgeRange(df_vektis, i, 0)\n",
    "    \n",
    "    # Correlation matrix #\n",
    "    func.corr_Matrix(df_avg, i, year)\n",
    "\n",
    "    # Pie chart #\n",
    "    func.pie_Chart(df_avg, i, year)\n",
    "\n",
    "    # Distribution plot #\n",
    "    func.dist_Plot(df_avg,'SUM', i, year)\n",
    "\n",
    "### Stack area plot ###\n",
    "loop = list(range(0,90,1))\n",
    "df_stack = pd.DataFrame()\n",
    "for i in loop:\n",
    "    df_avg = func.groupAgeRange(df_vektis, i, df_stack)\n",
    "    df_stack[i] = df_avg.mean(axis=0, skipna=True)\n",
    "    df_stack_trans = df_stack.transpose()\n",
    "    df_stack_trans = func.merge(df_stack_trans)\n",
    "func.stacked_Plot(df_stack_trans, loop, year)"
   ]
  },
  {
   "cell_type": "code",
   "execution_count": null,
   "metadata": {},
   "outputs": [],
   "source": []
  }
 ],
 "metadata": {
  "kernelspec": {
   "display_name": "Python 3",
   "language": "python",
   "name": "python3"
  },
  "language_info": {
   "codemirror_mode": {
    "name": "ipython",
    "version": 3
   },
   "file_extension": ".py",
   "mimetype": "text/x-python",
   "name": "python",
   "nbconvert_exporter": "python",
   "pygments_lexer": "ipython3",
   "version": "3.6.8"
  }
 },
 "nbformat": 4,
 "nbformat_minor": 2
}
