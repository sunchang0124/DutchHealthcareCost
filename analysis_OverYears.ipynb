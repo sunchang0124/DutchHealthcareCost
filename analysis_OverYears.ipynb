{
 "cells": [
  {
   "cell_type": "code",
   "execution_count": 2,
   "metadata": {},
   "outputs": [],
   "source": [
    "### Read healthcare cost data from vektis https://www.vektis.nl/intelligence/open-data ###\n",
    "### Please read the data description before using the data ###\n",
    "import os\n",
    "import json\n",
    "import func\n",
    "import numpy as np\n",
    "import pandas as pd\n",
    "import seaborn as sns\n",
    "import matplotlib.pyplot as plt"
   ]
  },
  {
   "cell_type": "code",
   "execution_count": 5,
   "metadata": {},
   "outputs": [],
   "source": [
    "### Unfortunately, the column names in the dataset are not easy to understand.\n",
    "### Therefore, I wrote a function to replace column names\n",
    "\n",
    "col = [\"GESLACHT\", \"AANTAL_BSN\",\"POSTCODE_3\",\"AANTAL_VERZEKERDEJAREN\",\"KOSTEN_MEDISCH_SPECIALISTISCHE_ZORG\",\\\n",
    "       \"KOSTEN_HUISARTS_INSCHRIJFTARIEF\", \"KOSTEN_HUISARTS_CONSULT\",\"KOSTEN_HUISARTS_OVERIG\", \\\n",
    "       \"KOSTEN_FARMACIE\", \"KOSTEN_MONDZORG\", \"KOSTEN_ZIEKENVERVOER_ZITTEND\", \"KOSTEN_ZIEKENVERVOER_LIGGEND\", \\\n",
    "       \"KOSTEN_GRENSOVERSCHRIJDENDE_ZORG\",\"KOSTEN_PARAMEDISCHE_ZORG_FYSIOTHERAPIE\", \\\n",
    "       \"KOSTEN_PARAMEDISCHE_ZORG_OVERIG\",\"KOSTEN_OVERIG\",\"KOSTEN_GERIATRISCHE_REVALIDATIEZORG\",\\\n",
    "       \"KOSTEN_VERPLEGING_EN_VERZORGING\",\"KOSTEN_EERSTELIJNS_PSYCHOLOGISCHE_ZORG\",\"KOSTEN_TWEEDELIJNS_GGZ\",\\\n",
    "       \"KOSTEN_SPECIALISTISCHE_GGZ\",\"KOSTEN_GENERALISTISCHE_BASIS_GGZ\",\"KOSTEN_LANGDURIGE_GGZ\"]\n",
    "\n",
    "name_col = [\"SEX\", \"BSNs\", \"Postcode\", \"Insured_year\",\"medical_specialist\", \"GP_registration\",\\\n",
    "            \"GP_consult\",\"GP_others\",\"pharmacy\",\"dental\",\"transport_seat\", \"transport_land\",\\\n",
    "            \"abroad\",\"paramedical_phy\",\"paramedical_others\", \"others\",\"rehabilitation\",\"nursing\",\\\n",
    "            \"firstLinePsy\",\"secondLineGGZ\",\"specialGGZ\",\"basicGGZ\",\"longGGZ\"]\n",
    "\n",
    "ageRange = [[0,3],[4,6],[7,10],[11,14],[15,18],[19,22],[23,26],[27,30],[31,34],[35,39],\\\n",
    "            [40,44],[45,50],[51,55],[56,60],[61,65],[66,70],[71,75],[76,80],[81,85],[86,90]]\n",
    "\n",
    "# ageRange = [[0,3],[4,6],[7,10],[11,14],[15,18],[19,22],[23,26],[27,30]]\n",
    "ageRange_string = []\n",
    "for i in ageRange:\n",
    "    ageRange_string.append(str(i))\n",
    "\n",
    "postcode = 'ALL'"
   ]
  },
  {
   "cell_type": "markdown",
   "metadata": {},
   "source": [
    "# Read data files and make dataframes for all age groups #"
   ]
  },
  {
   "cell_type": "code",
   "execution_count": 6,
   "metadata": {},
   "outputs": [],
   "source": [
    "file_list = ['Vektis2011.csv','Vektis2012.csv','Vektis2013.csv','Vektis2014.csv',\\\n",
    "             'Vektis2015.csv','Vektis2016.csv','Vektis2017.csv']\n",
    "df_years = {}\n",
    "for file in file_list:\n",
    "    fileName = file[6:-4]\n",
    "    df = pd.read_csv(file,delimiter=';')\n",
    "    df_years[fileName] = func.prepare(df, col, name_col, postcode)"
   ]
  },
  {
   "cell_type": "code",
   "execution_count": 7,
   "metadata": {
    "scrolled": false
   },
   "outputs": [
    {
     "name": "stdout",
     "output_type": "stream",
     "text": [
      "The number of insured people between 0 to 3:  4538\n",
      "The number of insured people between 0 to 3:  4531\n",
      "The number of insured people between 0 to 3:  4510\n",
      "The number of insured people between 0 to 3:  4501\n",
      "The number of insured people between 0 to 3:  4505\n",
      "The number of insured people between 0 to 3:  4511\n",
      "The number of insured people between 0 to 3:  4517\n",
      "The number of insured people between 4 to 6:  3047\n",
      "The number of insured people between 4 to 6:  3047\n",
      "The number of insured people between 4 to 6:  3049\n",
      "The number of insured people between 4 to 6:  3045\n",
      "The number of insured people between 4 to 6:  3035\n",
      "The number of insured people between 4 to 6:  3032\n",
      "The number of insured people between 4 to 6:  3022\n",
      "The number of insured people between 7 to 10:  4625\n",
      "The number of insured people between 7 to 10:  4620\n",
      "The number of insured people between 7 to 10:  4602\n",
      "The number of insured people between 7 to 10:  4588\n",
      "The number of insured people between 7 to 10:  4576\n",
      "The number of insured people between 7 to 10:  4586\n",
      "The number of insured people between 7 to 10:  4583\n",
      "The number of insured people between 11 to 14:  4651\n",
      "The number of insured people between 11 to 14:  4647\n",
      "The number of insured people between 11 to 14:  4643\n",
      "The number of insured people between 11 to 14:  4632\n",
      "The number of insured people between 11 to 14:  4625\n",
      "The number of insured people between 11 to 14:  4610\n",
      "The number of insured people between 11 to 14:  4597\n",
      "The number of insured people between 15 to 18:  4628\n",
      "The number of insured people between 15 to 18:  4640\n",
      "The number of insured people between 15 to 18:  4642\n",
      "The number of insured people between 15 to 18:  4637\n",
      "The number of insured people between 15 to 18:  4646\n",
      "The number of insured people between 15 to 18:  4641\n",
      "The number of insured people between 15 to 18:  4646\n",
      "The number of insured people between 19 to 22:  4584\n",
      "The number of insured people between 19 to 22:  4580\n",
      "The number of insured people between 19 to 22:  4572\n",
      "The number of insured people between 19 to 22:  4574\n",
      "The number of insured people between 19 to 22:  4567\n",
      "The number of insured people between 19 to 22:  4569\n",
      "The number of insured people between 19 to 22:  4588\n",
      "The number of insured people between 23 to 26:  4530\n",
      "The number of insured people between 23 to 26:  4524\n",
      "The number of insured people between 23 to 26:  4523\n",
      "The number of insured people between 23 to 26:  4538\n",
      "The number of insured people between 23 to 26:  4539\n",
      "The number of insured people between 23 to 26:  4553\n",
      "The number of insured people between 23 to 26:  4529\n",
      "The number of insured people between 27 to 30:  4469\n",
      "The number of insured people between 27 to 30:  4475\n",
      "The number of insured people between 27 to 30:  4495\n",
      "The number of insured people between 27 to 30:  4501\n",
      "The number of insured people between 27 to 30:  4510\n",
      "The number of insured people between 27 to 30:  4522\n",
      "The number of insured people between 27 to 30:  4508\n",
      "The number of insured people between 31 to 34:  4502\n",
      "The number of insured people between 31 to 34:  4501\n",
      "The number of insured people between 31 to 34:  4502\n",
      "The number of insured people between 31 to 34:  4491\n",
      "The number of insured people between 31 to 34:  4501\n",
      "The number of insured people between 31 to 34:  4516\n",
      "The number of insured people between 31 to 34:  4541\n",
      "The number of insured people between 35 to 39:  6112\n",
      "The number of insured people between 35 to 39:  6094\n",
      "The number of insured people between 35 to 39:  6075\n",
      "The number of insured people between 35 to 39:  6062\n",
      "The number of insured people between 35 to 39:  6056\n",
      "The number of insured people between 35 to 39:  6069\n",
      "The number of insured people between 35 to 39:  6055\n",
      "The number of insured people between 40 to 44:  6228\n",
      "The number of insured people between 40 to 44:  6221\n",
      "The number of insured people between 40 to 44:  6207\n",
      "The number of insured people between 40 to 44:  6177\n",
      "The number of insured people between 40 to 44:  6145\n",
      "The number of insured people between 40 to 44:  6127\n",
      "The number of insured people between 40 to 44:  6114\n",
      "The number of insured people between 45 to 50:  7802\n",
      "The number of insured people between 45 to 50:  7808\n",
      "The number of insured people between 45 to 50:  7800\n",
      "The number of insured people between 45 to 50:  7794\n",
      "The number of insured people between 45 to 50:  7792\n",
      "The number of insured people between 45 to 50:  7786\n",
      "The number of insured people between 45 to 50:  7768\n",
      "The number of insured people between 51 to 55:  6234\n",
      "The number of insured people between 51 to 55:  6233\n",
      "The number of insured people between 51 to 55:  6236\n",
      "The number of insured people between 51 to 55:  6242\n",
      "The number of insured people between 51 to 55:  6239\n",
      "The number of insured people between 51 to 55:  6242\n",
      "The number of insured people between 51 to 55:  6231\n",
      "The number of insured people between 56 to 60:  6215\n",
      "The number of insured people between 56 to 60:  6220\n",
      "The number of insured people between 56 to 60:  6224\n",
      "The number of insured people between 56 to 60:  6218\n",
      "The number of insured people between 56 to 60:  6223\n",
      "The number of insured people between 56 to 60:  6225\n",
      "The number of insured people between 56 to 60:  6223\n",
      "The number of insured people between 61 to 65:  6188\n",
      "The number of insured people between 61 to 65:  6201\n",
      "The number of insured people between 61 to 65:  6202\n",
      "The number of insured people between 61 to 65:  6201\n",
      "The number of insured people between 61 to 65:  6202\n",
      "The number of insured people between 61 to 65:  6198\n",
      "The number of insured people between 61 to 65:  6201\n",
      "The number of insured people between 66 to 70:  6112\n",
      "The number of insured people between 66 to 70:  6134\n",
      "The number of insured people between 66 to 70:  6149\n",
      "The number of insured people between 66 to 70:  6168\n",
      "The number of insured people between 66 to 70:  6183\n",
      "The number of insured people between 66 to 70:  6180\n",
      "The number of insured people between 66 to 70:  6183\n",
      "The number of insured people between 71 to 75:  5976\n",
      "The number of insured people between 71 to 75:  5989\n",
      "The number of insured people between 71 to 75:  5996\n",
      "The number of insured people between 71 to 75:  6022\n",
      "The number of insured people between 71 to 75:  6036\n",
      "The number of insured people between 71 to 75:  6053\n",
      "The number of insured people between 71 to 75:  6096\n",
      "The number of insured people between 76 to 80:  5781\n",
      "The number of insured people between 76 to 80:  5804\n",
      "The number of insured people between 76 to 80:  5832\n",
      "The number of insured people between 76 to 80:  5844\n",
      "The number of insured people between 76 to 80:  5860\n",
      "The number of insured people between 76 to 80:  5878\n",
      "The number of insured people between 76 to 80:  5884\n",
      "The number of insured people between 81 to 85:  5395\n",
      "The number of insured people between 81 to 85:  5460\n",
      "The number of insured people between 81 to 85:  5495\n",
      "The number of insured people between 81 to 85:  5511\n",
      "The number of insured people between 81 to 85:  5525\n",
      "The number of insured people between 81 to 85:  5559\n",
      "The number of insured people between 81 to 85:  5572\n",
      "The number of insured people between 86 to 90:  4453\n",
      "The number of insured people between 86 to 90:  4521\n",
      "The number of insured people between 86 to 90:  4581\n",
      "The number of insured people between 86 to 90:  4609\n",
      "The number of insured people between 86 to 90:  4701\n",
      "The number of insured people between 86 to 90:  4767\n",
      "The number of insured people between 86 to 90:  4824\n"
     ]
    }
   ],
   "source": [
    "years = list(df_years.keys())\n",
    "categories = ['medical_specialist','GP','pharmacy','dental','transport','abroad','paramedical', \\\n",
    "                 'others', '1stPsy2ndGGZ', 'GGZ','rehabilitation','nursing']\n",
    "\n",
    "df_mean_allYears = {}\n",
    "for i in range(0,len(ageRange)):\n",
    "    df_mean_byYear = {}\n",
    "    for year in years:\n",
    "        temp_df = func.merge(func.groupAgeRange(df_years[year], ageRange[i], 0))\n",
    "        df_mean_byYear[str(year)] = temp_df.mean()\n",
    "    df_mean_allYears[ageRange_string[i]] = df_mean_byYear"
   ]
  },
  {
   "cell_type": "code",
   "execution_count": 166,
   "metadata": {},
   "outputs": [
    {
     "data": {
      "image/png": "[encoded data removed]",
      "text/plain": [
       "<matplotlib.figure.Figure at 0x11b60dc50>"
      ]
     },
     "metadata": {},
     "output_type": "display_data"
    }
   ],
   "source": [
    "start_ageGroup = 11\n",
    "end_ageGroup = 16\n",
    "one_cate = \"nursing\"\n",
    "# Sumcost_line (df_mean_allYears,ageRange_string, start_ageGroup, end_ageGroup)\n",
    "Catcost_line(df_mean_allYears,ageRange_string, start_ageGroup, end_ageGroup, one_cate)\n",
    "# Catcost_heatmap(df_mean_allYears,ageRange_string,years,categories,one_cate)\n"
   ]
  },
  {
   "cell_type": "markdown",
   "metadata": {},
   "source": [
    "******"
   ]
  },
  {
   "cell_type": "markdown",
   "metadata": {},
   "source": [
    "### 1. All categories in different years from the same age group (heatmap) ###"
   ]
  },
  {
   "cell_type": "code",
   "execution_count": 6,
   "metadata": {
    "scrolled": false
   },
   "outputs": [],
   "source": [
    "def allCategoriesDiffYear (df_mean_allYears,ageRange_string,years,categories,fileName):\n",
    "    for elem in ageRange_string:\n",
    "        avg_cost = []\n",
    "        year_plt = []\n",
    "        cate_plt = []\n",
    "        for i in categories:\n",
    "            for j in years:\n",
    "                year_plt.append(j)\n",
    "                cate_plt.append(i)\n",
    "\n",
    "                if i in list(df_mean_allYears[elem][j].keys()):\n",
    "                    avg_cost.append(df_mean_allYears[elem][j][i])\n",
    "                else:\n",
    "                    avg_cost.append(0)\n",
    "        cost_plt = pd.DataFrame.from_records([cate_plt,year_plt,avg_cost]).transpose()\n",
    "        cost_plt.columns = ['category','Year','Cost']\n",
    "\n",
    "        sns.set()\n",
    "\n",
    "        cost_df_pivot = cost_plt.pivot('category','Year','Cost')\n",
    "        cost_df_pivot.fillna(value=np.nan, inplace=True)\n",
    "\n",
    "        # Draw a heatmap with the numeric values in each cell\n",
    "        f, ax = plt.subplots(figsize=(13, 10))\n",
    "        sns.heatmap(cost_df_pivot, annot=True, fmt=\"0.4g\",linewidths=.5, ax=ax, vmax=500,\\\n",
    "                       cmap=sns.cubehelix_palette(10), cbar=True)\n",
    "        plt.title(\"Costs in different categories between 2011-2017 in age group of %s\"%elem)\n",
    "        plt.show()\n",
    "\n",
    "    #     filename = 'Output_Vektis/withMedSpecialist/%s_Category_Years.png'%ageRange_string[elem]\n",
    "    #     os.makedirs(os.path.dirname(filename), exist_ok=True)\n",
    "    #     plt.savefig(filename)"
   ]
  },
  {
   "cell_type": "markdown",
   "metadata": {},
   "source": [
    "*****************************"
   ]
  },
  {
   "cell_type": "markdown",
   "metadata": {},
   "source": [
    "### 2. All categories in the same year from different age groups (heatmap) ###"
   ]
  },
  {
   "cell_type": "code",
   "execution_count": 7,
   "metadata": {},
   "outputs": [],
   "source": [
    "def allCategoriesDiffAge (df_mean_allYears,ageRange_string,years,categories,fileName):\n",
    "    for elem in years:\n",
    "        avg_cost = []\n",
    "        ages_plt = []\n",
    "        cate_plt = []\n",
    "        for i in categories:\n",
    "            for j in ageRange_string:\n",
    "                ages_plt.append(j)\n",
    "                cate_plt.append(i)\n",
    "\n",
    "                if i in list(df_mean_allYears[j][elem].keys()):\n",
    "                    avg_cost.append(df_mean_allYears[j][elem][i])\n",
    "                else:\n",
    "                    avg_cost.append(0)\n",
    "        cost_plt = pd.DataFrame.from_records([cate_plt,ages_plt,avg_cost]).transpose()\n",
    "        cost_plt.columns = ['category','Age range','Cost']\n",
    "\n",
    "        sns.set()\n",
    "\n",
    "        cost_df_pivot = cost_plt.pivot('category','Age range','Cost')\n",
    "        cost_df_pivot.fillna(value=np.nan, inplace=True)\n",
    "\n",
    "        # Draw a heatmap with the numeric values in each cell\n",
    "        f, ax = plt.subplots(figsize=(13, 10))\n",
    "        sns.heatmap(cost_df_pivot, annot=True, fmt=\"0.4g\",linewidths=.5, ax=ax, vmax=500,\\\n",
    "                       cmap=sns.cubehelix_palette(10), cbar=True)\n",
    "        plt.title(\"Costs in different categories from different age groups in %s\"%fileName)\n",
    "        plt.show()\n",
    "\n",
    "    #     filename = 'Output_Vektis/%s_Category_Change.png'%fileName\n",
    "    #     os.makedirs(os.path.dirname(filename), exist_ok=True)\n",
    "    #     plt.savefig(filename)"
   ]
  },
  {
   "cell_type": "markdown",
   "metadata": {},
   "source": [
    "*************"
   ]
  },
  {
   "cell_type": "markdown",
   "metadata": {},
   "source": [
    "### 3. Sum for different age groups and years ###"
   ]
  },
  {
   "cell_type": "code",
   "execution_count": 8,
   "metadata": {},
   "outputs": [],
   "source": [
    "def SumCost_pivot(df_mean_allYears,ageRange_string,years,categories):\n",
    "    age_plt = []\n",
    "    year_plt = []\n",
    "    sum_plt = []\n",
    "    for i in ageRange_string:\n",
    "        for j in years:\n",
    "            age_plt.append(i)\n",
    "            year_plt.append(j)\n",
    "            sum_plt.append(df_mean_allYears[i][j].sum())\n",
    "\n",
    "    sum_cost_plt = pd.DataFrame.from_records([age_plt,year_plt,sum_plt]).transpose()\n",
    "    sum_cost_plt.columns = ['Age range','Year','Sum of costs']\n",
    "\n",
    "    sum_cost_plt_pivot = sum_cost_plt.pivot('Age range','Year','Sum of costs')\n",
    "    sum_cost_plt_pivot = sum_cost_plt_pivot.reindex(ageRange_string)\n",
    "    sum_cost_plt_pivot.fillna(value=np.nan, inplace=True)\n",
    "    \n",
    "    return sum_cost_plt_pivot"
   ]
  },
  {
   "cell_type": "code",
   "execution_count": 9,
   "metadata": {},
   "outputs": [],
   "source": [
    "def SumCost_heatmap(df_mean_allYears,ageRange_string,years,categories):\n",
    "    sum_cost_plt_pivot = SumCost_pivot(df_mean_allYears,ageRange_string,years,categories)\n",
    "    \n",
    "    sns.set()\n",
    "\n",
    "    # Draw a heatmap with the numeric values in each cell\n",
    "    f, ax = plt.subplots(figsize=(12, 9))\n",
    "    sns.heatmap(sum_cost_plt_pivot, annot=True, fmt=\"0.4g\",linewidths=.5, ax=ax, vmax=7000,\\\n",
    "                   cmap=sns.cubehelix_palette(10), cbar=True)\n",
    "    plt.title(\"Sum of costs in different years from different age groups\")\n",
    "    plt.show()\n",
    "\n",
    "    # filename = 'Output_Vektis/SumVisualization/SumofCost_FULL.png'\n",
    "    # os.makedirs(os.path.dirname(filename), exist_ok=True)\n",
    "    # plt.savefig(filename)"
   ]
  },
  {
   "cell_type": "code",
   "execution_count": 24,
   "metadata": {},
   "outputs": [],
   "source": [
    "def Sumcost_line (df_mean_allYears,ageRange_string, start_ageGroup, end_ageGroup):\n",
    "    ### Sum line plot ###\n",
    "    sum_cost_plt_pivot = SumCost_pivot(df_mean_allYears,ageRange_string,years,categories)\n",
    "\n",
    "    sns.set()\n",
    "    \n",
    "    plt.subplots(figsize=(12, 9))\n",
    "    palette = sns.color_palette(\"muted\")\n",
    "    p = sns.lineplot(data=sum_cost_plt_pivot[start_ageGroup:end_ageGroup].transpose(),\\\n",
    "                     linewidth=2.5,legend='full',dashes=False) \n",
    "\n",
    "    filename = 'Output_Vektis/SumVisualization/from %s - to %s.png'%(ageRange_string[start_ageGroup],\n",
    "                                                                ageRange_string[end_ageGroup-1])\n",
    "    plt.xlabel('Year')\n",
    "#     plt.ylim(700,1530)\n",
    "    plt.ylabel('Sum of costs')\n",
    "    plt.title('Sum of costs from %s - to %s between 2011-2017' %(ageRange_string[start_ageGroup],\n",
    "                                                                ageRange_string[end_ageGroup-1]))\n",
    "    plt.legend(loc='upper right')\n",
    "#     os.makedirs(os.path.dirname(filename), exist_ok=True)\n",
    "#     plt.savefig(filename)\n",
    "    plt.show()"
   ]
  },
  {
   "cell_type": "markdown",
   "metadata": {},
   "source": [
    "### 4. Single category plot (heatmap) ###"
   ]
  },
  {
   "cell_type": "code",
   "execution_count": 159,
   "metadata": {},
   "outputs": [],
   "source": [
    "def CatCost_pivot(df_mean_allYears,ageRange_string,years,categories,one_cate):\n",
    "    age_plt = []\n",
    "    year_plt = []\n",
    "    sglCat_plt = []\n",
    "    for i in ageRange_string:\n",
    "        for j in years:\n",
    "            age_plt.append(i)\n",
    "            year_plt.append(j)\n",
    "            if one_cate in df_mean_allYears[i][j].keys():\n",
    "                sglCat_plt.append(df_mean_allYears[i][j][one_cate])\n",
    "            else:\n",
    "                sglCat_plt.append(0)\n",
    "#             if '1stPsy2ndGGZ' in df_mean_allYears[i][j].keys():\n",
    "#                 sglCat_plt.append(df_mean_allYears[i][j]['1stPsy2ndGGZ']) # medical_specialist\n",
    "#             elif 'GGZ' in df_mean_allYears[i][j].keys():\n",
    "#                 sglCat_plt.append(df_mean_allYears[i][j]['GGZ'])\n",
    "\n",
    "    sglCat_cost_plt = pd.DataFrame.from_records([age_plt,year_plt,sglCat_plt]).transpose()\n",
    "    sglCat_cost_plt.columns = ['Age range','Year','Cost from %s'%one_cate] #Medical Specialists\n",
    "\n",
    "    sglCat_cost_plt_pivot = sglCat_cost_plt.pivot('Age range','Year','Cost from %s'%one_cate) #Medical Specialists\n",
    "    sglCat_cost_plt_pivot = sglCat_cost_plt_pivot.reindex(ageRange_string)\n",
    "    sglCat_cost_plt_pivot.fillna(value=np.nan, inplace=True)\n",
    "    \n",
    "    return sglCat_cost_plt_pivot"
   ]
  },
  {
   "cell_type": "code",
   "execution_count": 160,
   "metadata": {},
   "outputs": [],
   "source": [
    "def Catcost_heatmap(df_mean_allYears,ageRange_string,years,categories,one_cate):\n",
    "    sglCat_cost_plt_pivot = CatCost_pivot(df_mean_allYears,ageRange_string,years,categories,one_cate)\n",
    "    \n",
    "    sns.set()\n",
    "\n",
    "    # Draw a heatmap with the numeric values in each cell\n",
    "    f, ax = plt.subplots(figsize=(12, 9))\n",
    "    sns.heatmap(sglCat_cost_plt_pivot, annot=True, fmt=\"0.4g\",linewidths=.5, ax=ax, \\\n",
    "                   cmap=sns.cubehelix_palette(10), cbar=True)\n",
    "    plt.title(\"Costs from %s in different years from different age groups\" %one_cate)\n",
    "\n",
    "    filename = 'Output_Vektis/%s/%s.png' %(one_cate,one_cate)\n",
    "    os.makedirs(os.path.dirname(filename), exist_ok=True)\n",
    "    plt.savefig(filename)\n",
    "    plt.show()"
   ]
  },
  {
   "cell_type": "markdown",
   "metadata": {},
   "source": [
    "### 5. Sum line plot (heatmap) ###"
   ]
  },
  {
   "cell_type": "code",
   "execution_count": 161,
   "metadata": {},
   "outputs": [],
   "source": [
    "def Catcost_line(df_mean_allYears,ageRange_string, start_ageGroup,end_ageGroup, one_cate):\n",
    "\n",
    "    sglCat_cost_plt_pivot = CatCost_pivot(df_mean_allYears,ageRange_string,years,categories,one_cate)\n",
    "    \n",
    "    sns.set()\n",
    "    \n",
    "    plt.subplots(figsize=(12, 9))\n",
    "    p = sns.lineplot(data=sglCat_cost_plt_pivot[start_ageGroup:end_ageGroup].transpose(), \\\n",
    "                     linewidth=2.5,legend='full',dashes=False) \n",
    "    filename = 'Output_Vektis/%s/from %s to %s.png' \\\n",
    "    %(one_cate, ageRange_string[start_ageGroup],ageRange_string[end_ageGroup-1])\n",
    "\n",
    "#     plt.ylim(1350,3520)\n",
    "    plt.legend(loc='upper right')\n",
    "    plt.xlabel('Age range')\n",
    "    plt.ylabel('Costs from %s Package' %one_cate)\n",
    "    plt.title('Costs from %s from %s to %s '\\\n",
    "              %(one_cate, ageRange_string[start_ageGroup],ageRange_string[end_ageGroup-1]))\n",
    "    os.makedirs(os.path.dirname(filename), exist_ok=True)\n",
    "    plt.savefig(filename)\n",
    "    plt.show()"
   ]
  },
  {
   "cell_type": "markdown",
   "metadata": {},
   "source": [
    "**********"
   ]
  },
  {
   "cell_type": "markdown",
   "metadata": {},
   "source": [
    "### 6. Line plot multiple categories ###"
   ]
  },
  {
   "cell_type": "code",
   "execution_count": null,
   "metadata": {},
   "outputs": [],
   "source": [
    "# data_plt = pd.DataFrame.from_dict(df_mean_allYears[ageGroup_string[0]]).transpose()\n",
    "# data_plt_small=data_plt[['abroad','dental','others','paramedical','rehabilitation','transport']]\n",
    "# data_plt_big=data_plt[['GP','pharmacy','1stPsy2ndGGZ', 'GGZ','nursing']]\n",
    "\n",
    "# sns.set(style=\"whitegrid\")\n",
    "\n",
    "# plt.subplots(figsize=(8, 6))\n",
    "# p=sns.lineplot(data=data_plt_small, palette=\"Paired\", linewidth=2.5,style=\"choice\")\n",
    "# plt.legend(loc='lower left')\n",
    "\n",
    "# plt.title(\"Costs in different years in the age group of %s\" %ageRange_string[ageInput])\n",
    "# plt.xlabel('Years')\n",
    "# plt.ylabel('Costs')\n",
    "# # p.set_ylim([0,75])\n",
    "# plt.show()\n",
    "\n",
    "# # filename = 'Output_Vektis/linePlot_part1_%s.png' %ageRange_string[ageInput]\n",
    "# # os.makedirs(os.path.dirname(filename), exist_ok=True)\n",
    "# # plt.savefig(filename)\n"
   ]
  },
  {
   "cell_type": "code",
   "execution_count": null,
   "metadata": {},
   "outputs": [],
   "source": []
  },
  {
   "cell_type": "code",
   "execution_count": null,
   "metadata": {},
   "outputs": [],
   "source": []
  }
 ],
 "metadata": {
  "kernelspec": {
   "display_name": "Python 3",
   "language": "python",
   "name": "python3"
  },
  "language_info": {
   "codemirror_mode": {
    "name": "ipython",
    "version": 3
   },
   "file_extension": ".py",
   "mimetype": "text/x-python",
   "name": "python",
   "nbconvert_exporter": "python",
   "pygments_lexer": "ipython3",
   "version": "3.6.8"
  }
 },
 "nbformat": 4,
 "nbformat_minor": 2
}
